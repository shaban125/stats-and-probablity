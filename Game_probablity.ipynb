{
  "nbformat": 4,
  "nbformat_minor": 0,
  "metadata": {
    "colab": {
      "provenance": []
    },
    "kernelspec": {
      "name": "python3",
      "display_name": "Python 3"
    },
    "language_info": {
      "name": "python"
    }
  },
  "cells": [
    {
      "cell_type": "markdown",
      "source": [
        "### **Bernoulli distribution**"
      ],
      "metadata": {
        "id": "fftw0bmh2uOw"
      }
    },
    {
      "cell_type": "code",
      "source": [
        "import random\n",
        "\n",
        "# Single coin flip\n",
        "flip = random.choice([0, 1])  # 0 is tails, 1 is heads\n",
        "\n",
        "# Show the result\n",
        "if flip == 1:\n",
        "    print(\"Heads\")\n",
        "else:\n",
        "    print(\"Tails\")\n"
      ],
      "metadata": {
        "colab": {
          "base_uri": "https://localhost:8080/"
        },
        "id": "u9UP_Eh797dq",
        "outputId": "c4cabcd5-44cc-4f84-9983-7828548970b1"
      },
      "execution_count": null,
      "outputs": [
        {
          "output_type": "stream",
          "name": "stdout",
          "text": [
            "Tails\n"
          ]
        }
      ]
    },
    {
      "cell_type": "markdown",
      "source": [
        "## **Binomial distribution**"
      ],
      "metadata": {
        "id": "CbgtNfjU3bS-"
      }
    },
    {
      "cell_type": "code",
      "source": [
        "import numpy as np\n",
        "\n",
        "# Number of flips\n",
        "n_flips = 10\n",
        "\n",
        "# Probability of heads\n",
        "p = 0.4\n",
        "\n",
        "# Simulate binomial distribution (10 flips, probability of heads is 0.5)\n",
        "heads_count = np.random.binomial(n=n_flips, p=p)\n",
        "\n",
        "print(f\"Out of {n_flips} flips, we got {heads_count} heads.\")\n"
      ],
      "metadata": {
        "colab": {
          "base_uri": "https://localhost:8080/"
        },
        "id": "X3p_buOC-PwH",
        "outputId": "4fb4c157-0bc7-4401-b19f-7e6b6bebbdba"
      },
      "execution_count": null,
      "outputs": [
        {
          "output_type": "stream",
          "name": "stdout",
          "text": [
            "Out of 10 flips, we got 5 heads.\n"
          ]
        }
      ]
    },
    {
      "cell_type": "code",
      "source": [
        "import matplotlib.pyplot as plt\n",
        "import numpy as np\n",
        "\n",
        "n_flips = 10\n",
        "p = 0.7\n",
        "x = np.arange(0, n_flips+1)  # Possible outcomes (0 to 10 heads)\n",
        "\n",
        "# Binomial probabilities\n",
        "binom_probs = [np.random.binomial(n=n_flips, p=p) for _ in range(1000)]\n",
        "\n",
        "# Plot the distribution\n",
        "plt.hist(binom_probs, bins=n_flips+1, range=(0, n_flips), density=True, edgecolor='black')\n",
        "plt.title('Binomial Distribution for 10 Coin Flips')\n",
        "plt.xlabel('Number of Heads')\n",
        "plt.ylabel('Probability')\n",
        "plt.show()\n"
      ],
      "metadata": {
        "colab": {
          "base_uri": "https://localhost:8080/",
          "height": 472
        },
        "id": "AYa5R3Sa_8JY",
        "outputId": "cb4281da-f7c1-428f-f1c6-cd96ef6308a6"
      },
      "execution_count": null,
      "outputs": [
        {
          "output_type": "display_data",
          "data": {
            "text/plain": [
              "<Figure size 640x480 with 1 Axes>"
            ],
            "image/png": "[encoded data removed]"
          },
          "metadata": {}
        }
      ]
    },
    {
      "cell_type": "markdown",
      "source": [
        "Binomial distribution with probablity mass distribution"
      ],
      "metadata": {
        "id": "KyqGuPln3oDc"
      }
    },
    {
      "cell_type": "code",
      "source": [
        "from scipy.stats import binom\n",
        "\n",
        "# Parameters\n",
        "n_flips = 10\n",
        "p_heads = 0.1\n",
        "k_heads = 4  # Number of heads we are interested in\n",
        "\n",
        "# PMF: Probability of getting exactly k_heads heads\n",
        "pmf_value = binom.pmf(k_heads, n_flips, p_heads)\n",
        "print(f\"Probability of getting exactly {k_heads} heads in {n_flips} flips: {pmf_value}\")\n"
      ],
      "metadata": {
        "colab": {
          "base_uri": "https://localhost:8080/"
        },
        "id": "tSRdGm-82a3I",
        "outputId": "0c4195c7-28b3-4b4e-8b3c-f657415cb63e"
      },
      "execution_count": 2,
      "outputs": [
        {
          "output_type": "stream",
          "name": "stdout",
          "text": [
            "Probability of getting exactly 4 heads in 10 flips: 0.01116026100000001\n"
          ]
        }
      ]
    },
    {
      "cell_type": "code",
      "source": [],
      "metadata": {
        "id": "bosF8n382rIH"
      },
      "execution_count": null,
      "outputs": []
    }
  ]
}